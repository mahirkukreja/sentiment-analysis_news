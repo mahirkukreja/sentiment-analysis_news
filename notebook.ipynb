{
 "cells": [
  {
   "cell_type": "code",
   "execution_count": 1,
   "metadata": {
    "collapsed": false
   },
   "outputs": [],
   "source": [
    "\n",
    "# coding: utf-8\n",
    "\n",
    "# In[ ]:\n",
    "\n",
    "# Importing libraries\n",
    "import selenium\n",
    "from selenium import webdriver\n",
    "from selenium.common.exceptions import TimeoutException\n",
    "from selenium.webdriver.support.ui import WebDriverWait \n",
    "from selenium.webdriver.support import expected_conditions as EC\n",
    "from pyvirtualdisplay import Display\n",
    "import urllib2\n",
    "from bs4 import BeautifulSoup\n",
    "import pickle\n",
    "import re\n",
    "import time\n",
    "import pandas as pd\n",
    "import datetime\n",
    "from os import listdir\n",
    "from os.path import isfile, join\n",
    "from vaderSentiment.vaderSentiment import SentimentIntensityAnalyzer\n",
    "from selenium.webdriver.chrome.options import Options\n",
    "# data cleaning\n",
    "from data_cleaning import unicodetoascii\n",
    "def cleanhtml(raw_html):\n",
    "    cleanr = re.compile('<.*?>')\n",
    "    cleantext = re.sub(cleanr, '', raw_html)\n",
    "    return cleantext"
   ]
  },
  {
   "cell_type": "code",
   "execution_count": 2,
   "metadata": {
    "collapsed": true
   },
   "outputs": [],
   "source": [
    "# code starts\n",
    "start=time.time()\n",
    "# setting up display\n",
    "display = Display(visible=0, size=(800, 800))  \n",
    "display.start()\n",
    "# adding chrome options to avoid errors\n",
    "chrome_options = Options()\n",
    "chrome_options.add_argument(\"--no-sandbox\")\n",
    "chrome_options.add_argument(\"--disable-setuid-sandbox\")\n",
    "chrome_options.add_argument(\"user-agent=Mozilla/5.0 (X11; Linux x86_64) AppleWebKit/537.36 (KHTML, like Gecko) Chrome/33.0.1750.149 Safari/537.36\")\n",
    "driver = webdriver.Chrome(chrome_options=chrome_options)\n",
    "# city list\n",
    "city_list=['Delhi','Hyderabad','mumbai','bangalore']\n",
    "for x in city_list:\n",
    "    df=pd.DataFrame(columns=['desc'])\n",
    "    df.to_csv(x+\"data.csv\",index=False)\n",
    "# crawling above cities's news for the past five days\n",
    "for x in city_list:\n",
    "    for i in range(5):\n",
    "        driver.get(\"http://www.thehindu.com/news/cities/\"+x+\"/?page=\"+str(i))\n",
    "        time.sleep(3)\n",
    "        s=driver.page_source\n",
    "        s=s.encode('utf-8','ignore')\n",
    "        article_urls=(re.findall('http://www.thehindu.com/news/cities/'+x+'(/.*?/article.*?.ece)\" class=\"Other-StoryCard-heading\" title=\"Updated: .*?;Published: .*? IST\">\\n',s))\n",
    "        for i in article_urls:\n",
    "            driver.get(\"http://www.thehindu.com/news/cities/\"+x+i)\n",
    "            time.sleep(2)\n",
    "            code=driver.page_source\n",
    "            code=code.encode('utf-8','ignore')\n",
    "            posted_date=re.findall('span class=\"blue-color ksl-time-stamp\">\\n<none>\\n(.*?)\\n</none>\\n</span>\\n<div class=\"teaser-text update-time\">\\nUpdated:\\n<span>\\n<none>\\n.*?\\n</none>\\n</span>\\n</div>\\n</div>\\n</div>\\n',code)[0]\n",
    "            if ((datetime.datetime.today()-pd.to_datetime(posted_date)).days<=5):\n",
    "                try:\n",
    "                    txt=re.findall('<div id=\"content-body-.*?\" class=\"_hoverrDone\">\\n<p>(.*?)</p>\\n</div>',code)\n",
    "                except:\n",
    "                    continue\n",
    "                if len(txt)>0: \n",
    "                    df['desc']=txt\n",
    "                    df.to_csv(x+\"data.csv\",index=False,mode='a',header=False)\n",
    "                else:\n",
    "                    continue\n",
    "            else:\n",
    "                break  "
   ]
  },
  {
   "cell_type": "code",
   "execution_count": 3,
   "metadata": {
    "collapsed": true
   },
   "outputs": [],
   "source": [
    "# applying vader sentiment to calculate average sentiment per city\n",
    "dir_cvs='/home/ubuntu/untrodden labs hiring/'\n",
    "dircvs = [join(dir_cvs, f) for f in listdir(dir_cvs) if isfile(join(dir_cvs, f))]   \n",
    "final_sentiments=[]\n",
    "citylis=[]\n",
    "for i in dircvs:\n",
    "    if i.endswith('data.csv'):\n",
    "        df=pd.read_csv(i)\n",
    "        sentences=df['desc'].values\n",
    "        analyzer = SentimentIntensityAnalyzer()\n",
    "        neg=0\n",
    "        pos=0\n",
    "        for sentence in sentences:\n",
    "            sentence=unicodetoascii(cleanhtml(sentence))\n",
    "            vs = analyzer.polarity_scores(sentence)\n",
    "            pos=pos+vs['pos']\n",
    "            neg=neg+vs['neg']\n",
    "        if pos>neg:\n",
    "            final_sentiments.append('positive')\n",
    "        else:\n",
    "            final_sentiments.append('negative')\n",
    "        citylis.append(re.findall('/untrodden labs hiring/(.*?)data.csv',i)[0])    \n",
    "    else:\n",
    "        continue"
   ]
  },
  {
   "cell_type": "code",
   "execution_count": 4,
   "metadata": {
    "collapsed": false
   },
   "outputs": [],
   "source": [
    "# final output stored in output dataframe     \n",
    "output=pd.DataFrame()\n",
    "output['city']=citylis  \n",
    "output['sentiment']=final_sentiments\n",
    "output.to_csv('output.csv',index=False)"
   ]
  },
  {
   "cell_type": "code",
   "execution_count": 5,
   "metadata": {
    "collapsed": false
   },
   "outputs": [
    {
     "data": {
      "text/html": [
       "<div>\n",
       "<table border=\"1\" class=\"dataframe\">\n",
       "  <thead>\n",
       "    <tr style=\"text-align: right;\">\n",
       "      <th></th>\n",
       "      <th>city</th>\n",
       "      <th>sentiment</th>\n",
       "    </tr>\n",
       "  </thead>\n",
       "  <tbody>\n",
       "    <tr>\n",
       "      <th>0</th>\n",
       "      <td>bangalore</td>\n",
       "      <td>positive</td>\n",
       "    </tr>\n",
       "    <tr>\n",
       "      <th>1</th>\n",
       "      <td>mumbai</td>\n",
       "      <td>negative</td>\n",
       "    </tr>\n",
       "    <tr>\n",
       "      <th>2</th>\n",
       "      <td>Hyderabad</td>\n",
       "      <td>positive</td>\n",
       "    </tr>\n",
       "    <tr>\n",
       "      <th>3</th>\n",
       "      <td>Delhi</td>\n",
       "      <td>negative</td>\n",
       "    </tr>\n",
       "  </tbody>\n",
       "</table>\n",
       "</div>"
      ],
      "text/plain": [
       "        city sentiment\n",
       "0  bangalore  positive\n",
       "1     mumbai  negative\n",
       "2  Hyderabad  positive\n",
       "3      Delhi  negative"
      ]
     },
     "execution_count": 5,
     "metadata": {},
     "output_type": "execute_result"
    }
   ],
   "source": [
    "output"
   ]
  }
 ],
 "metadata": {
  "kernelspec": {
   "display_name": "Python 2",
   "language": "python",
   "name": "python2"
  },
  "language_info": {
   "codemirror_mode": {
    "name": "ipython",
    "version": 2
   },
   "file_extension": ".py",
   "mimetype": "text/x-python",
   "name": "python",
   "nbconvert_exporter": "python",
   "pygments_lexer": "ipython2",
   "version": "2.7.12"
  }
 },
 "nbformat": 4,
 "nbformat_minor": 2
}
